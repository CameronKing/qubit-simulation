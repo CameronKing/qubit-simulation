{
 "cells": [
  {
   "cell_type": "code",
   "execution_count": 2,
   "metadata": {},
   "outputs": [],
   "source": [
    "import math\n",
    "import numpy as np\n",
    "import scipy.linalg as LA\n",
    "from context import qubitsim\n",
    "from qubitsim.qubit import HybridQubit as hybrid"
   ]
  },
  {
   "cell_type": "code",
   "execution_count": 3,
   "metadata": {},
   "outputs": [],
   "source": [
    "operating_point, match_freq = 3.0, 10.0\n",
    "ref_qubit = hybrid.SOSSHybrid(operating_point, match_freq)"
   ]
  },
  {
   "cell_type": "code",
   "execution_count": 4,
   "metadata": {},
   "outputs": [],
   "source": [
    "base_H0 = ref_qubit.hamiltonian_lab()\n",
    "base_noise = ref_qubit.detuning_noise_lab(0.2)\n",
    "full_hamil = base_H0 + base_noise\n",
    "evals, evecs = LA.eigh(full_hamil)\n",
    "evecs = hybrid.HybridQubit.eigvector_phase_sort(evecs)"
   ]
  },
  {
   "cell_type": "code",
   "execution_count": 8,
   "metadata": {},
   "outputs": [],
   "source": [
    "rot_kernel = (evecs.T @ base_H0 @ evecs)"
   ]
  },
  {
   "cell_type": "code",
   "execution_count": 9,
   "metadata": {},
   "outputs": [],
   "source": [
    "dipole_operator = evecs.T @ np.diag([-0.5, -0.5, 0.5]) @ evecs"
   ]
  },
  {
   "cell_type": "code",
   "execution_count": 11,
   "metadata": {},
   "outputs": [
    {
     "data": {
      "text/plain": [
       "array([[-1.03770922e+02,  6.53724685e-02,  2.71297834e-01],\n",
       "       [ 6.53724685e-02, -4.09390684e+01, -2.71297217e-01],\n",
       "       [ 2.71297834e-01, -2.71297217e-01,  1.13425068e+02]])"
      ]
     },
     "execution_count": 11,
     "metadata": {},
     "output_type": "execute_result"
    }
   ],
   "source": [
    "rot_kernel"
   ]
  },
  {
   "cell_type": "code",
   "execution_count": null,
   "metadata": {},
   "outputs": [],
   "source": []
  }
 ],
 "metadata": {
  "kernelspec": {
   "display_name": "Python 3",
   "language": "python",
   "name": "python3"
  },
  "language_info": {
   "codemirror_mode": {
    "name": "ipython",
    "version": 3
   },
   "file_extension": ".py",
   "mimetype": "text/x-python",
   "name": "python",
   "nbconvert_exporter": "python",
   "pygments_lexer": "ipython3",
   "version": "3.6.5"
  }
 },
 "nbformat": 4,
 "nbformat_minor": 2
}
